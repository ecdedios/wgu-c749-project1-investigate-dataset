{
 "cells": [
  {
   "cell_type": "markdown",
   "metadata": {},
   "source": [
    "# Project: Investigate a Dataset - [TMDB]\n",
    "\n",
    "## Table of Contents\n",
    "<ul>\n",
    "<li><a href=\"#intro\">Introduction</a></li>\n",
    "<li><a href=\"#wrangling\">Data Wrangling</a></li>\n",
    "<li><a href=\"#eda\">Exploratory Data Analysis</a></li>\n",
    "<li><a href=\"#conclusions\">Conclusions</a></li>\n",
    "</ul>"
   ]
  },
  {
   "cell_type": "markdown",
   "metadata": {},
   "source": [
    "<a id='intro'></a>\n",
    "## Introduction\n",
    "This is a data analysis project for WGU C749 course.\n",
    "\n",
    "### Dataset Description \n",
    "The data that we're going to use comes from [TMDB 5000 Movie Dataset](https://www.kaggle.com/datasets/tmdb/tmdb-movie-metadata). The following is a list of all the columns found in the dataset:\n",
    "\n",
    "- id\n",
    "- imdb_id\n",
    "- popularity - *Measure of a movie's popularity.*\n",
    "- budget\n",
    "- revenue\n",
    "- original_title - *Movie title. We need this is easily identify the movie*\n",
    "- cast- *list of cast members delimited by '|'*\n",
    "- homepage \n",
    "- director\n",
    "- tagline\n",
    "- keywords\n",
    "- overview\n",
    "- runtime - *duration of the movie*\n",
    "- genres- *list of genres delimited by '|'*\n",
    "- production_companies\n",
    "- release_date\n",
    "- vote_count\n",
    "- vote_average\n",
    "- release_year\n",
    "- budget_adj - *the values here are adjusted for inflation*\n",
    "- revenue_adj - *the values here are adjusted for inflation*\n",
    "\n",
    "\n",
    "\n",
    "### Question(s) for Analysis\n",
    "\n",
    "1. What are the most popular movies?\n",
    "2. Which genres are most popular from?\n",
    "3. What movies have the highest budgets?\n",
    "4. What movies have the highest revenue?\n",
    "5. What movies are most profitable?\n",
    "6. Describe the sweetspot for the runtime feature.\n",
    "7. Are any of the features correlated?\n",
    "\n",
    "Let's begin.\n",
    "\n",
    "On this cell below, we're importing the packages/libraries that we will need for the project."
   ]
  },
  {
   "cell_type": "code",
   "execution_count": 1,
   "metadata": {},
   "outputs": [],
   "source": [
    "import pandas as pd\n",
    "import numpy as np\n",
    "\n",
    "# for visualizations\n",
    "import seaborn as sns\n",
    "import matplotlib.pyplot as plt\n",
    "%matplotlib inline\n",
    "\n",
    "# to print out all the outputs\n",
    "from IPython.core.interactiveshell import InteractiveShell\n",
    "InteractiveShell.ast_node_interactivity = \"all\"\n",
    "\n",
    "# set display options\n",
    "pd.set_option('display.max_columns', None)\n",
    "pd.set_option('display.max_rows', None)\n",
    "pd.set_option('display.max_colwidth', None)"
   ]
  },
  {
   "cell_type": "markdown",
   "metadata": {},
   "source": [
    "The cell below contains all of the program's functions."
   ]
  },
  {
   "cell_type": "code",
   "execution_count": 2,
   "metadata": {},
   "outputs": [],
   "source": [
    "def get_values(df, columns):\n",
    "    \"\"\"\n",
    "    Take a dataframe and a list of columns and\n",
    "    returns the value counts for the columns.\n",
    "    \"\"\"\n",
    "    for column in columns:\n",
    "        print(column)\n",
    "        print('=====================================')\n",
    "        print(df[column].value_counts(dropna=False))\n",
    "        print('\\n')\n",
    "\n",
    "def show_values(df, param):\n",
    "    \"\"\"\n",
    "    Takes a dataframe and parameters and\n",
    "    calls the get_values function.\n",
    "    \"\"\"\n",
    "    if param == 'all':\n",
    "        get_values(df, df.columns)\n",
    "    else:\n",
    "        get_values(df, param) "
   ]
  },
  {
   "cell_type": "code",
   "execution_count": 3,
   "metadata": {},
   "outputs": [],
   "source": [
    "def calculate_toppers(df, column):\n",
    "    \"\"\"\n",
    "    Sorts a dataframe by the supplied column name and\n",
    "    lists the top 10 rows.\n",
    "    \"\"\" \n",
    "    return df.sort_values(by = column, ascending = False).head(1000)"
   ]
  },
  {
   "cell_type": "code",
   "execution_count": 4,
   "metadata": {},
   "outputs": [],
   "source": [
    "def pipe_counter(df, column, top_number):\n",
    "    \"\"\"\n",
    "    Takes a dataframe, a column, and returns\n",
    "    the top 10 rows of that column.\n",
    "    \"\"\"\n",
    "    string_all = df[column].str.cat(sep = '|')\n",
    "    series_all = pd.Series(string_all.split('|'))\n",
    "    top5_all = series_all.value_counts(ascending = False)\n",
    "    return top5_all.head(top_number)"
   ]
  },
  {
   "cell_type": "markdown",
   "metadata": {},
   "source": [
    "<a id='wrangling'></a>\n",
    "## Data Wrangling\n",
    "\n",
    "In this section, we will load in the data, check for cleanliness, and then trim and clean your dataset for analysis.\n",
    "\n",
    "\n",
    "### General Properties\n",
    "\n"
   ]
  },
  {
   "cell_type": "code",
   "execution_count": 5,
   "metadata": {},
   "outputs": [],
   "source": [
    "# read a csv file\n",
    "df = pd.read_csv('../data/in/tmdb-movies.csv')"
   ]
  },
  {
   "cell_type": "markdown",
   "metadata": {},
   "source": [
    "Let's get a feel for the dataset."
   ]
  },
  {
   "cell_type": "code",
   "execution_count": 6,
   "metadata": {},
   "outputs": [
    {
     "data": {
      "text/plain": [
       "(10866, 21)"
      ]
     },
     "execution_count": 6,
     "metadata": {},
     "output_type": "execute_result"
    },
    {
     "name": "stdout",
     "output_type": "stream",
     "text": [
      "<class 'pandas.core.frame.DataFrame'>\n",
      "RangeIndex: 10866 entries, 0 to 10865\n",
      "Data columns (total 21 columns):\n",
      " #   Column                Non-Null Count  Dtype  \n",
      "---  ------                --------------  -----  \n",
      " 0   id                    10866 non-null  int64  \n",
      " 1   imdb_id               10856 non-null  object \n",
      " 2   popularity            10866 non-null  float64\n",
      " 3   budget                10866 non-null  int64  \n",
      " 4   revenue               10866 non-null  int64  \n",
      " 5   original_title        10866 non-null  object \n",
      " 6   cast                  10790 non-null  object \n",
      " 7   homepage              2936 non-null   object \n",
      " 8   director              10822 non-null  object \n",
      " 9   tagline               8042 non-null   object \n",
      " 10  keywords              9373 non-null   object \n",
      " 11  overview              10862 non-null  object \n",
      " 12  runtime               10866 non-null  int64  \n",
      " 13  genres                10843 non-null  object \n",
      " 14  production_companies  9836 non-null   object \n",
      " 15  release_date          10866 non-null  object \n",
      " 16  vote_count            10866 non-null  int64  \n",
      " 17  vote_average          10866 non-null  float64\n",
      " 18  release_year          10866 non-null  int64  \n",
      " 19  budget_adj            10866 non-null  float64\n",
      " 20  revenue_adj           10866 non-null  float64\n",
      "dtypes: float64(4), int64(6), object(11)\n",
      "memory usage: 1.7+ MB\n"
     ]
    }
   ],
   "source": [
    "df.shape\n",
    "df.info()"
   ]
  },
  {
   "cell_type": "markdown",
   "metadata": {},
   "source": [
    "\n",
    "### Data Cleaning\n",
    "\n",
    "We only need certain columns. Let's create another dataframe that contains only the desired columns."
   ]
  },
  {
   "cell_type": "code",
   "execution_count": 7,
   "metadata": {},
   "outputs": [],
   "source": [
    "df1 = df[['original_title',\n",
    "          'popularity',\n",
    "          'cast',\n",
    "          'runtime',\n",
    "          'genres',\n",
    "          'release_year',\n",
    "          'budget_adj',\n",
    "          'revenue_adj',          \n",
    "        ]]"
   ]
  },
  {
   "cell_type": "markdown",
   "metadata": {},
   "source": [
    "Let's see how many rows we have."
   ]
  },
  {
   "cell_type": "code",
   "execution_count": 8,
   "metadata": {},
   "outputs": [
    {
     "name": "stdout",
     "output_type": "stream",
     "text": [
      "This dataframe has 10866 rows or records.\n"
     ]
    }
   ],
   "source": [
    "print('This dataframe has {} rows or records.'.format(df1.shape[0]))"
   ]
  },
  {
   "cell_type": "markdown",
   "metadata": {},
   "source": [
    "Now, let's drop the duplicates."
   ]
  },
  {
   "cell_type": "code",
   "execution_count": 9,
   "metadata": {
    "scrolled": false
   },
   "outputs": [
    {
     "name": "stdout",
     "output_type": "stream",
     "text": [
      "This dataframe now has 10865 rows or records.\n"
     ]
    },
    {
     "name": "stderr",
     "output_type": "stream",
     "text": [
      "C:\\Users\\Dd\\AppData\\Local\\Temp\\ipykernel_25756\\1324486049.py:1: SettingWithCopyWarning: \n",
      "A value is trying to be set on a copy of a slice from a DataFrame\n",
      "\n",
      "See the caveats in the documentation: https://pandas.pydata.org/pandas-docs/stable/user_guide/indexing.html#returning-a-view-versus-a-copy\n",
      "  df1.drop_duplicates(keep ='first', inplace=True)\n"
     ]
    }
   ],
   "source": [
    "df1.drop_duplicates(keep ='first', inplace=True)\n",
    "print('This dataframe now has {} rows or records.'.format(df1.shape[0]))"
   ]
  },
  {
   "cell_type": "markdown",
   "metadata": {},
   "source": [
    "Then, we will drop all the rows that has a NaN value. We will create another dataframe before then because of the large number of rows that are being dropped."
   ]
  },
  {
   "cell_type": "code",
   "execution_count": 10,
   "metadata": {},
   "outputs": [
    {
     "name": "stdout",
     "output_type": "stream",
     "text": [
      "This dataframe now has 10767 rows or records.\n"
     ]
    }
   ],
   "source": [
    "df2 = df1.dropna()\n",
    "print('This dataframe now has {} rows or records.'.format(df2.shape[0]))"
   ]
  },
  {
   "cell_type": "markdown",
   "metadata": {},
   "source": [
    "Finally, let's convert 0 into NaNs and drop them. Let's create another data that reflects this latest change."
   ]
  },
  {
   "cell_type": "code",
   "execution_count": 11,
   "metadata": {
    "scrolled": false
   },
   "outputs": [
    {
     "name": "stdout",
     "output_type": "stream",
     "text": [
      "This dataframe now has 3850 rows or records.\n"
     ]
    },
    {
     "name": "stderr",
     "output_type": "stream",
     "text": [
      "C:\\Users\\Dd\\AppData\\Local\\Temp\\ipykernel_25756\\1935603876.py:5: SettingWithCopyWarning: \n",
      "A value is trying to be set on a copy of a slice from a DataFrame.\n",
      "Try using .loc[row_indexer,col_indexer] = value instead\n",
      "\n",
      "See the caveats in the documentation: https://pandas.pydata.org/pandas-docs/stable/user_guide/indexing.html#returning-a-view-versus-a-copy\n",
      "  df2[nonzero] = df2[nonzero].replace(0, np.NAN)\n"
     ]
    }
   ],
   "source": [
    "# creating a seperate list of revenue and budget column\n",
    "nonzero =['budget_adj', 'revenue_adj']\n",
    "\n",
    "#this will replace all the value from '0' to NAN in the list\n",
    "df2[nonzero] = df2[nonzero].replace(0, np.NAN)\n",
    "\n",
    "df3 = df2.dropna()\n",
    "print('This dataframe now has {} rows or records.'.format(df3.shape[0]))"
   ]
  },
  {
   "cell_type": "markdown",
   "metadata": {},
   "source": [
    "<a id='eda'></a>\n",
    "## Exploratory Data Analysis\n",
    "\n",
    "Let's take a quick peek at the dataset."
   ]
  },
  {
   "cell_type": "code",
   "execution_count": 12,
   "metadata": {},
   "outputs": [
    {
     "data": {
      "text/html": [
       "<div>\n",
       "<style scoped>\n",
       "    .dataframe tbody tr th:only-of-type {\n",
       "        vertical-align: middle;\n",
       "    }\n",
       "\n",
       "    .dataframe tbody tr th {\n",
       "        vertical-align: top;\n",
       "    }\n",
       "\n",
       "    .dataframe thead th {\n",
       "        text-align: right;\n",
       "    }\n",
       "</style>\n",
       "<table border=\"1\" class=\"dataframe\">\n",
       "  <thead>\n",
       "    <tr style=\"text-align: right;\">\n",
       "      <th></th>\n",
       "      <th>original_title</th>\n",
       "      <th>popularity</th>\n",
       "      <th>cast</th>\n",
       "      <th>runtime</th>\n",
       "      <th>genres</th>\n",
       "      <th>release_year</th>\n",
       "      <th>budget_adj</th>\n",
       "      <th>revenue_adj</th>\n",
       "    </tr>\n",
       "  </thead>\n",
       "  <tbody>\n",
       "    <tr>\n",
       "      <th>0</th>\n",
       "      <td>Jurassic World</td>\n",
       "      <td>32.985763</td>\n",
       "      <td>Chris Pratt|Bryce Dallas Howard|Irrfan Khan|Vincent D'Onofrio|Nick Robinson</td>\n",
       "      <td>124</td>\n",
       "      <td>Action|Adventure|Science Fiction|Thriller</td>\n",
       "      <td>2015</td>\n",
       "      <td>1.379999e+08</td>\n",
       "      <td>1.392446e+09</td>\n",
       "    </tr>\n",
       "    <tr>\n",
       "      <th>1</th>\n",
       "      <td>Mad Max: Fury Road</td>\n",
       "      <td>28.419936</td>\n",
       "      <td>Tom Hardy|Charlize Theron|Hugh Keays-Byrne|Nicholas Hoult|Josh Helman</td>\n",
       "      <td>120</td>\n",
       "      <td>Action|Adventure|Science Fiction|Thriller</td>\n",
       "      <td>2015</td>\n",
       "      <td>1.379999e+08</td>\n",
       "      <td>3.481613e+08</td>\n",
       "    </tr>\n",
       "    <tr>\n",
       "      <th>2</th>\n",
       "      <td>Insurgent</td>\n",
       "      <td>13.112507</td>\n",
       "      <td>Shailene Woodley|Theo James|Kate Winslet|Ansel Elgort|Miles Teller</td>\n",
       "      <td>119</td>\n",
       "      <td>Adventure|Science Fiction|Thriller</td>\n",
       "      <td>2015</td>\n",
       "      <td>1.012000e+08</td>\n",
       "      <td>2.716190e+08</td>\n",
       "    </tr>\n",
       "    <tr>\n",
       "      <th>3</th>\n",
       "      <td>Star Wars: The Force Awakens</td>\n",
       "      <td>11.173104</td>\n",
       "      <td>Harrison Ford|Mark Hamill|Carrie Fisher|Adam Driver|Daisy Ridley</td>\n",
       "      <td>136</td>\n",
       "      <td>Action|Adventure|Science Fiction|Fantasy</td>\n",
       "      <td>2015</td>\n",
       "      <td>1.839999e+08</td>\n",
       "      <td>1.902723e+09</td>\n",
       "    </tr>\n",
       "    <tr>\n",
       "      <th>4</th>\n",
       "      <td>Furious 7</td>\n",
       "      <td>9.335014</td>\n",
       "      <td>Vin Diesel|Paul Walker|Jason Statham|Michelle Rodriguez|Dwayne Johnson</td>\n",
       "      <td>137</td>\n",
       "      <td>Action|Crime|Thriller</td>\n",
       "      <td>2015</td>\n",
       "      <td>1.747999e+08</td>\n",
       "      <td>1.385749e+09</td>\n",
       "    </tr>\n",
       "  </tbody>\n",
       "</table>\n",
       "</div>"
      ],
      "text/plain": [
       "                 original_title  popularity  \\\n",
       "0                Jurassic World   32.985763   \n",
       "1            Mad Max: Fury Road   28.419936   \n",
       "2                     Insurgent   13.112507   \n",
       "3  Star Wars: The Force Awakens   11.173104   \n",
       "4                     Furious 7    9.335014   \n",
       "\n",
       "                                                                          cast  \\\n",
       "0  Chris Pratt|Bryce Dallas Howard|Irrfan Khan|Vincent D'Onofrio|Nick Robinson   \n",
       "1        Tom Hardy|Charlize Theron|Hugh Keays-Byrne|Nicholas Hoult|Josh Helman   \n",
       "2           Shailene Woodley|Theo James|Kate Winslet|Ansel Elgort|Miles Teller   \n",
       "3             Harrison Ford|Mark Hamill|Carrie Fisher|Adam Driver|Daisy Ridley   \n",
       "4       Vin Diesel|Paul Walker|Jason Statham|Michelle Rodriguez|Dwayne Johnson   \n",
       "\n",
       "   runtime                                     genres  release_year  \\\n",
       "0      124  Action|Adventure|Science Fiction|Thriller          2015   \n",
       "1      120  Action|Adventure|Science Fiction|Thriller          2015   \n",
       "2      119         Adventure|Science Fiction|Thriller          2015   \n",
       "3      136   Action|Adventure|Science Fiction|Fantasy          2015   \n",
       "4      137                      Action|Crime|Thriller          2015   \n",
       "\n",
       "     budget_adj   revenue_adj  \n",
       "0  1.379999e+08  1.392446e+09  \n",
       "1  1.379999e+08  3.481613e+08  \n",
       "2  1.012000e+08  2.716190e+08  \n",
       "3  1.839999e+08  1.902723e+09  \n",
       "4  1.747999e+08  1.385749e+09  "
      ]
     },
     "execution_count": 12,
     "metadata": {},
     "output_type": "execute_result"
    }
   ],
   "source": [
    "df3.head()"
   ]
  },
  {
   "cell_type": "code",
   "execution_count": 13,
   "metadata": {},
   "outputs": [
    {
     "name": "stdout",
     "output_type": "stream",
     "text": [
      "<class 'pandas.core.frame.DataFrame'>\n",
      "Int64Index: 3850 entries, 0 to 10848\n",
      "Data columns (total 8 columns):\n",
      " #   Column          Non-Null Count  Dtype  \n",
      "---  ------          --------------  -----  \n",
      " 0   original_title  3850 non-null   object \n",
      " 1   popularity      3850 non-null   float64\n",
      " 2   cast            3850 non-null   object \n",
      " 3   runtime         3850 non-null   int64  \n",
      " 4   genres          3850 non-null   object \n",
      " 5   release_year    3850 non-null   int64  \n",
      " 6   budget_adj      3850 non-null   float64\n",
      " 7   revenue_adj     3850 non-null   float64\n",
      "dtypes: float64(3), int64(2), object(3)\n",
      "memory usage: 270.7+ KB\n"
     ]
    }
   ],
   "source": [
    "df3.info()"
   ]
  },
  {
   "cell_type": "code",
   "execution_count": 14,
   "metadata": {},
   "outputs": [
    {
     "data": {
      "text/html": [
       "<div>\n",
       "<style scoped>\n",
       "    .dataframe tbody tr th:only-of-type {\n",
       "        vertical-align: middle;\n",
       "    }\n",
       "\n",
       "    .dataframe tbody tr th {\n",
       "        vertical-align: top;\n",
       "    }\n",
       "\n",
       "    .dataframe thead th {\n",
       "        text-align: right;\n",
       "    }\n",
       "</style>\n",
       "<table border=\"1\" class=\"dataframe\">\n",
       "  <thead>\n",
       "    <tr style=\"text-align: right;\">\n",
       "      <th></th>\n",
       "      <th>popularity</th>\n",
       "      <th>runtime</th>\n",
       "      <th>release_year</th>\n",
       "      <th>budget_adj</th>\n",
       "      <th>revenue_adj</th>\n",
       "    </tr>\n",
       "  </thead>\n",
       "  <tbody>\n",
       "    <tr>\n",
       "      <th>count</th>\n",
       "      <td>3850.000000</td>\n",
       "      <td>3850.000000</td>\n",
       "      <td>3850.000000</td>\n",
       "      <td>3.850000e+03</td>\n",
       "      <td>3.850000e+03</td>\n",
       "    </tr>\n",
       "    <tr>\n",
       "      <th>mean</th>\n",
       "      <td>1.192661</td>\n",
       "      <td>109.228831</td>\n",
       "      <td>2001.260000</td>\n",
       "      <td>4.428320e+07</td>\n",
       "      <td>1.371986e+08</td>\n",
       "    </tr>\n",
       "    <tr>\n",
       "      <th>std</th>\n",
       "      <td>1.475527</td>\n",
       "      <td>19.924053</td>\n",
       "      <td>11.284699</td>\n",
       "      <td>4.481243e+07</td>\n",
       "      <td>2.161832e+08</td>\n",
       "    </tr>\n",
       "    <tr>\n",
       "      <th>min</th>\n",
       "      <td>0.001117</td>\n",
       "      <td>15.000000</td>\n",
       "      <td>1960.000000</td>\n",
       "      <td>9.693980e-01</td>\n",
       "      <td>2.370705e+00</td>\n",
       "    </tr>\n",
       "    <tr>\n",
       "      <th>25%</th>\n",
       "      <td>0.463201</td>\n",
       "      <td>95.250000</td>\n",
       "      <td>1995.000000</td>\n",
       "      <td>1.314346e+07</td>\n",
       "      <td>1.841498e+07</td>\n",
       "    </tr>\n",
       "    <tr>\n",
       "      <th>50%</th>\n",
       "      <td>0.798343</td>\n",
       "      <td>106.000000</td>\n",
       "      <td>2004.000000</td>\n",
       "      <td>3.004524e+07</td>\n",
       "      <td>6.179073e+07</td>\n",
       "    </tr>\n",
       "    <tr>\n",
       "      <th>75%</th>\n",
       "      <td>1.372826</td>\n",
       "      <td>119.000000</td>\n",
       "      <td>2010.000000</td>\n",
       "      <td>6.072867e+07</td>\n",
       "      <td>1.633775e+08</td>\n",
       "    </tr>\n",
       "    <tr>\n",
       "      <th>max</th>\n",
       "      <td>32.985763</td>\n",
       "      <td>338.000000</td>\n",
       "      <td>2015.000000</td>\n",
       "      <td>4.250000e+08</td>\n",
       "      <td>2.827124e+09</td>\n",
       "    </tr>\n",
       "  </tbody>\n",
       "</table>\n",
       "</div>"
      ],
      "text/plain": [
       "        popularity      runtime  release_year    budget_adj   revenue_adj\n",
       "count  3850.000000  3850.000000   3850.000000  3.850000e+03  3.850000e+03\n",
       "mean      1.192661   109.228831   2001.260000  4.428320e+07  1.371986e+08\n",
       "std       1.475527    19.924053     11.284699  4.481243e+07  2.161832e+08\n",
       "min       0.001117    15.000000   1960.000000  9.693980e-01  2.370705e+00\n",
       "25%       0.463201    95.250000   1995.000000  1.314346e+07  1.841498e+07\n",
       "50%       0.798343   106.000000   2004.000000  3.004524e+07  6.179073e+07\n",
       "75%       1.372826   119.000000   2010.000000  6.072867e+07  1.633775e+08\n",
       "max      32.985763   338.000000   2015.000000  4.250000e+08  2.827124e+09"
      ]
     },
     "execution_count": 14,
     "metadata": {},
     "output_type": "execute_result"
    }
   ],
   "source": [
    "df3.describe()"
   ]
  },
  {
   "cell_type": "markdown",
   "metadata": {},
   "source": [
    "### Research Question 1 - What are the most popular movies?\n",
    "\n",
    "To answer this question, we're going to take the top thousand records and use it as a subset for the most popular movies of all time. We're to store them in the top_popular dataframe to represent \"the most popular movies of all time.\"\n",
    "\n",
    "Then, we're only going to take the top five most popular movies."
   ]
  },
  {
   "cell_type": "code",
   "execution_count": 15,
   "metadata": {
    "scrolled": true
   },
   "outputs": [
    {
     "data": {
      "text/html": [
       "<div>\n",
       "<style scoped>\n",
       "    .dataframe tbody tr th:only-of-type {\n",
       "        vertical-align: middle;\n",
       "    }\n",
       "\n",
       "    .dataframe tbody tr th {\n",
       "        vertical-align: top;\n",
       "    }\n",
       "\n",
       "    .dataframe thead th {\n",
       "        text-align: right;\n",
       "    }\n",
       "</style>\n",
       "<table border=\"1\" class=\"dataframe\">\n",
       "  <thead>\n",
       "    <tr style=\"text-align: right;\">\n",
       "      <th></th>\n",
       "      <th>original_title</th>\n",
       "      <th>popularity</th>\n",
       "      <th>cast</th>\n",
       "      <th>runtime</th>\n",
       "      <th>genres</th>\n",
       "      <th>release_year</th>\n",
       "      <th>budget_adj</th>\n",
       "      <th>revenue_adj</th>\n",
       "    </tr>\n",
       "  </thead>\n",
       "  <tbody>\n",
       "    <tr>\n",
       "      <th>0</th>\n",
       "      <td>Jurassic World</td>\n",
       "      <td>32.985763</td>\n",
       "      <td>Chris Pratt|Bryce Dallas Howard|Irrfan Khan|Vincent D'Onofrio|Nick Robinson</td>\n",
       "      <td>124</td>\n",
       "      <td>Action|Adventure|Science Fiction|Thriller</td>\n",
       "      <td>2015</td>\n",
       "      <td>1.379999e+08</td>\n",
       "      <td>1.392446e+09</td>\n",
       "    </tr>\n",
       "    <tr>\n",
       "      <th>1</th>\n",
       "      <td>Mad Max: Fury Road</td>\n",
       "      <td>28.419936</td>\n",
       "      <td>Tom Hardy|Charlize Theron|Hugh Keays-Byrne|Nicholas Hoult|Josh Helman</td>\n",
       "      <td>120</td>\n",
       "      <td>Action|Adventure|Science Fiction|Thriller</td>\n",
       "      <td>2015</td>\n",
       "      <td>1.379999e+08</td>\n",
       "      <td>3.481613e+08</td>\n",
       "    </tr>\n",
       "    <tr>\n",
       "      <th>629</th>\n",
       "      <td>Interstellar</td>\n",
       "      <td>24.949134</td>\n",
       "      <td>Matthew McConaughey|Jessica Chastain|Anne Hathaway|Michael Caine|Casey Affleck</td>\n",
       "      <td>169</td>\n",
       "      <td>Adventure|Drama|Science Fiction</td>\n",
       "      <td>2014</td>\n",
       "      <td>1.519800e+08</td>\n",
       "      <td>5.726906e+08</td>\n",
       "    </tr>\n",
       "    <tr>\n",
       "      <th>630</th>\n",
       "      <td>Guardians of the Galaxy</td>\n",
       "      <td>14.311205</td>\n",
       "      <td>Chris Pratt|Zoe Saldana|Dave Bautista|Vin Diesel|Bradley Cooper</td>\n",
       "      <td>121</td>\n",
       "      <td>Action|Science Fiction|Adventure</td>\n",
       "      <td>2014</td>\n",
       "      <td>1.565855e+08</td>\n",
       "      <td>7.122911e+08</td>\n",
       "    </tr>\n",
       "    <tr>\n",
       "      <th>2</th>\n",
       "      <td>Insurgent</td>\n",
       "      <td>13.112507</td>\n",
       "      <td>Shailene Woodley|Theo James|Kate Winslet|Ansel Elgort|Miles Teller</td>\n",
       "      <td>119</td>\n",
       "      <td>Adventure|Science Fiction|Thriller</td>\n",
       "      <td>2015</td>\n",
       "      <td>1.012000e+08</td>\n",
       "      <td>2.716190e+08</td>\n",
       "    </tr>\n",
       "  </tbody>\n",
       "</table>\n",
       "</div>"
      ],
      "text/plain": [
       "              original_title  popularity  \\\n",
       "0             Jurassic World   32.985763   \n",
       "1         Mad Max: Fury Road   28.419936   \n",
       "629             Interstellar   24.949134   \n",
       "630  Guardians of the Galaxy   14.311205   \n",
       "2                  Insurgent   13.112507   \n",
       "\n",
       "                                                                               cast  \\\n",
       "0       Chris Pratt|Bryce Dallas Howard|Irrfan Khan|Vincent D'Onofrio|Nick Robinson   \n",
       "1             Tom Hardy|Charlize Theron|Hugh Keays-Byrne|Nicholas Hoult|Josh Helman   \n",
       "629  Matthew McConaughey|Jessica Chastain|Anne Hathaway|Michael Caine|Casey Affleck   \n",
       "630                 Chris Pratt|Zoe Saldana|Dave Bautista|Vin Diesel|Bradley Cooper   \n",
       "2                Shailene Woodley|Theo James|Kate Winslet|Ansel Elgort|Miles Teller   \n",
       "\n",
       "     runtime                                     genres  release_year  \\\n",
       "0        124  Action|Adventure|Science Fiction|Thriller          2015   \n",
       "1        120  Action|Adventure|Science Fiction|Thriller          2015   \n",
       "629      169            Adventure|Drama|Science Fiction          2014   \n",
       "630      121           Action|Science Fiction|Adventure          2014   \n",
       "2        119         Adventure|Science Fiction|Thriller          2015   \n",
       "\n",
       "       budget_adj   revenue_adj  \n",
       "0    1.379999e+08  1.392446e+09  \n",
       "1    1.379999e+08  3.481613e+08  \n",
       "629  1.519800e+08  5.726906e+08  \n",
       "630  1.565855e+08  7.122911e+08  \n",
       "2    1.012000e+08  2.716190e+08  "
      ]
     },
     "execution_count": 15,
     "metadata": {},
     "output_type": "execute_result"
    }
   ],
   "source": [
    "top_popular = calculate_toppers(df3, 'popularity')\n",
    "top_popular.head(5)"
   ]
  },
  {
   "cell_type": "markdown",
   "metadata": {},
   "source": [
    "### Research Question 2 - Which genres are most popular?\n",
    "\n",
    "The strategy for this question is to take the most popular movies of all time (represented by the top_popular dataframe) and count each occurance of a genre as found in the genres column."
   ]
  },
  {
   "cell_type": "code",
   "execution_count": 16,
   "metadata": {},
   "outputs": [
    {
     "data": {
      "text/plain": [
       "Action             387\n",
       "Drama              345\n",
       "Adventure          324\n",
       "Thriller           321\n",
       "Comedy             310\n",
       "Science Fiction    207\n",
       "Fantasy            178\n",
       "Family             169\n",
       "Crime              152\n",
       "Romance            142\n",
       "dtype: int64"
      ]
     },
     "execution_count": 16,
     "metadata": {},
     "output_type": "execute_result"
    }
   ],
   "source": [
    "pipe_counter(top_popular, 'genres', 10)"
   ]
  },
  {
   "cell_type": "markdown",
   "metadata": {},
   "source": [
    "Let's visualize the genres in a horizontal bar graph."
   ]
  },
  {
   "cell_type": "code",
   "execution_count": 17,
   "metadata": {},
   "outputs": [
    {
     "data": {
      "text/plain": [
       "[Text(0.5, 1.0, 'Frequently Used Genres in the Most Popular Movies')]"
      ]
     },
     "execution_count": 17,
     "metadata": {},
     "output_type": "execute_result"
    },
    {
     "data": {
      "text/plain": [
       "Text(0.5, 0, '# of Movies in the dataset')"
      ]
     },
     "execution_count": 17,
     "metadata": {},
     "output_type": "execute_result"
    },
    {
     "data": {
      "image/png": "[encoded data removed]",
      "text/plain": [
       "<Figure size 1152x576 with 1 Axes>"
      ]
     },
     "metadata": {
      "needs_background": "light"
     },
     "output_type": "display_data"
    }
   ],
   "source": [
    "genres = pipe_counter(top_popular, 'genres', 10)\n",
    "genres.sort_values(ascending = True, inplace = True)\n",
    "\n",
    "lt = genres.plot.barh(color = 'blue', fontsize = 13)\n",
    "lt.set(title = 'Frequently Used Genres in the Most Popular Movies')\n",
    "lt.set_xlabel('# of Movies in the dataset', color = 'black', fontsize = '13')\n",
    "lt.figure.set_size_inches(16, 8)\n",
    "plt.show()"
   ]
  },
  {
   "cell_type": "markdown",
   "metadata": {},
   "source": [
    "### Research Question 3 - Which actors and actresses are in the most popular movies?\n",
    "\n",
    "Similarly, we're going to use the same strategy as before to determine the answer to the research question above. This time, however, we're going to count the actors and actresses in the cast column."
   ]
  },
  {
   "cell_type": "code",
   "execution_count": 18,
   "metadata": {},
   "outputs": [
    {
     "data": {
      "text/plain": [
       "Robert De Niro    20\n",
       "Jason Statham     18\n",
       "Tom Hanks         18\n",
       "Bruce Willis      18\n",
       "Brad Pitt         18\n",
       "Johnny Depp       17\n",
       "Tom Cruise        17\n",
       "Cameron Diaz      16\n",
       "Liam Neeson       15\n",
       "Harrison Ford     15\n",
       "dtype: int64"
      ]
     },
     "execution_count": 18,
     "metadata": {},
     "output_type": "execute_result"
    }
   ],
   "source": [
    "pipe_counter(top_popular, 'cast', 10)"
   ]
  },
  {
   "cell_type": "markdown",
   "metadata": {},
   "source": [
    "### Research Question 4 - What movies have the highest budgets?\n",
    "\n",
    "For this question, we're going to utilize a previously used function to get define the movies that has the biggest budgets of all time.\n",
    "\n",
    "Let's look at the top five."
   ]
  },
  {
   "cell_type": "code",
   "execution_count": 19,
   "metadata": {
    "scrolled": true
   },
   "outputs": [
    {
     "data": {
      "text/html": [
       "<div>\n",
       "<style scoped>\n",
       "    .dataframe tbody tr th:only-of-type {\n",
       "        vertical-align: middle;\n",
       "    }\n",
       "\n",
       "    .dataframe tbody tr th {\n",
       "        vertical-align: top;\n",
       "    }\n",
       "\n",
       "    .dataframe thead th {\n",
       "        text-align: right;\n",
       "    }\n",
       "</style>\n",
       "<table border=\"1\" class=\"dataframe\">\n",
       "  <thead>\n",
       "    <tr style=\"text-align: right;\">\n",
       "      <th></th>\n",
       "      <th>original_title</th>\n",
       "      <th>popularity</th>\n",
       "      <th>cast</th>\n",
       "      <th>runtime</th>\n",
       "      <th>genres</th>\n",
       "      <th>release_year</th>\n",
       "      <th>budget_adj</th>\n",
       "      <th>revenue_adj</th>\n",
       "    </tr>\n",
       "  </thead>\n",
       "  <tbody>\n",
       "    <tr>\n",
       "      <th>2244</th>\n",
       "      <td>The Warrior's Way</td>\n",
       "      <td>0.250540</td>\n",
       "      <td>Kate Bosworth|Jang Dong-gun|Geoffrey Rush|Danny Huston|Ti Lung</td>\n",
       "      <td>100</td>\n",
       "      <td>Adventure|Fantasy|Action|Western|Thriller</td>\n",
       "      <td>2010</td>\n",
       "      <td>4.250000e+08</td>\n",
       "      <td>1.108757e+07</td>\n",
       "    </tr>\n",
       "    <tr>\n",
       "      <th>3375</th>\n",
       "      <td>Pirates of the Caribbean: On Stranger Tides</td>\n",
       "      <td>4.955130</td>\n",
       "      <td>Johnny Depp|PenÃ©lope Cruz|Geoffrey Rush|Ian McShane|Kevin McNally</td>\n",
       "      <td>136</td>\n",
       "      <td>Adventure|Action|Fantasy</td>\n",
       "      <td>2011</td>\n",
       "      <td>3.683713e+08</td>\n",
       "      <td>9.904175e+08</td>\n",
       "    </tr>\n",
       "    <tr>\n",
       "      <th>7387</th>\n",
       "      <td>Pirates of the Caribbean: At World's End</td>\n",
       "      <td>4.965391</td>\n",
       "      <td>Johnny Depp|Orlando Bloom|Keira Knightley|Geoffrey Rush|Bill Nighy</td>\n",
       "      <td>169</td>\n",
       "      <td>Adventure|Fantasy|Action</td>\n",
       "      <td>2007</td>\n",
       "      <td>3.155006e+08</td>\n",
       "      <td>1.010654e+09</td>\n",
       "    </tr>\n",
       "    <tr>\n",
       "      <th>6570</th>\n",
       "      <td>Superman Returns</td>\n",
       "      <td>1.957331</td>\n",
       "      <td>Brandon Routh|Kevin Spacey|Kate Bosworth|James Marsden|Parker Posey</td>\n",
       "      <td>154</td>\n",
       "      <td>Adventure|Fantasy|Action|Science Fiction</td>\n",
       "      <td>2006</td>\n",
       "      <td>2.920507e+08</td>\n",
       "      <td>4.230205e+08</td>\n",
       "    </tr>\n",
       "    <tr>\n",
       "      <th>5231</th>\n",
       "      <td>Titanic</td>\n",
       "      <td>4.355219</td>\n",
       "      <td>Kate Winslet|Leonardo DiCaprio|Frances Fisher|Billy Zane|Kathy Bates</td>\n",
       "      <td>194</td>\n",
       "      <td>Drama|Romance|Thriller</td>\n",
       "      <td>1997</td>\n",
       "      <td>2.716921e+08</td>\n",
       "      <td>2.506406e+09</td>\n",
       "    </tr>\n",
       "  </tbody>\n",
       "</table>\n",
       "</div>"
      ],
      "text/plain": [
       "                                   original_title  popularity  \\\n",
       "2244                            The Warrior's Way    0.250540   \n",
       "3375  Pirates of the Caribbean: On Stranger Tides    4.955130   \n",
       "7387     Pirates of the Caribbean: At World's End    4.965391   \n",
       "6570                             Superman Returns    1.957331   \n",
       "5231                                      Titanic    4.355219   \n",
       "\n",
       "                                                                      cast  \\\n",
       "2244        Kate Bosworth|Jang Dong-gun|Geoffrey Rush|Danny Huston|Ti Lung   \n",
       "3375    Johnny Depp|PenÃ©lope Cruz|Geoffrey Rush|Ian McShane|Kevin McNally   \n",
       "7387    Johnny Depp|Orlando Bloom|Keira Knightley|Geoffrey Rush|Bill Nighy   \n",
       "6570   Brandon Routh|Kevin Spacey|Kate Bosworth|James Marsden|Parker Posey   \n",
       "5231  Kate Winslet|Leonardo DiCaprio|Frances Fisher|Billy Zane|Kathy Bates   \n",
       "\n",
       "      runtime                                     genres  release_year  \\\n",
       "2244      100  Adventure|Fantasy|Action|Western|Thriller          2010   \n",
       "3375      136                   Adventure|Action|Fantasy          2011   \n",
       "7387      169                   Adventure|Fantasy|Action          2007   \n",
       "6570      154   Adventure|Fantasy|Action|Science Fiction          2006   \n",
       "5231      194                     Drama|Romance|Thriller          1997   \n",
       "\n",
       "        budget_adj   revenue_adj  \n",
       "2244  4.250000e+08  1.108757e+07  \n",
       "3375  3.683713e+08  9.904175e+08  \n",
       "7387  3.155006e+08  1.010654e+09  \n",
       "6570  2.920507e+08  4.230205e+08  \n",
       "5231  2.716921e+08  2.506406e+09  "
      ]
     },
     "execution_count": 19,
     "metadata": {},
     "output_type": "execute_result"
    }
   ],
   "source": [
    "top_budget = calculate_toppers(df3, 'budget_adj')\n",
    "top_budget.head()"
   ]
  },
  {
   "cell_type": "markdown",
   "metadata": {},
   "source": [
    "### Research Question 5 - What movies have the highest revenue?\n",
    "\n",
    "Again, we're going to same function as above to define the movies that earned the highest revenue of all time.\n",
    "\n",
    "Let's look at the top five."
   ]
  },
  {
   "cell_type": "code",
   "execution_count": 20,
   "metadata": {
    "scrolled": true
   },
   "outputs": [
    {
     "data": {
      "text/html": [
       "<div>\n",
       "<style scoped>\n",
       "    .dataframe tbody tr th:only-of-type {\n",
       "        vertical-align: middle;\n",
       "    }\n",
       "\n",
       "    .dataframe tbody tr th {\n",
       "        vertical-align: top;\n",
       "    }\n",
       "\n",
       "    .dataframe thead th {\n",
       "        text-align: right;\n",
       "    }\n",
       "</style>\n",
       "<table border=\"1\" class=\"dataframe\">\n",
       "  <thead>\n",
       "    <tr style=\"text-align: right;\">\n",
       "      <th></th>\n",
       "      <th>original_title</th>\n",
       "      <th>popularity</th>\n",
       "      <th>cast</th>\n",
       "      <th>runtime</th>\n",
       "      <th>genres</th>\n",
       "      <th>release_year</th>\n",
       "      <th>budget_adj</th>\n",
       "      <th>revenue_adj</th>\n",
       "    </tr>\n",
       "  </thead>\n",
       "  <tbody>\n",
       "    <tr>\n",
       "      <th>1386</th>\n",
       "      <td>Avatar</td>\n",
       "      <td>9.432768</td>\n",
       "      <td>Sam Worthington|Zoe Saldana|Sigourney Weaver|Stephen Lang|Michelle Rodriguez</td>\n",
       "      <td>162</td>\n",
       "      <td>Action|Adventure|Fantasy|Science Fiction</td>\n",
       "      <td>2009</td>\n",
       "      <td>2.408869e+08</td>\n",
       "      <td>2.827124e+09</td>\n",
       "    </tr>\n",
       "    <tr>\n",
       "      <th>1329</th>\n",
       "      <td>Star Wars</td>\n",
       "      <td>12.037933</td>\n",
       "      <td>Mark Hamill|Harrison Ford|Carrie Fisher|Peter Cushing|Alec Guinness</td>\n",
       "      <td>121</td>\n",
       "      <td>Adventure|Action|Science Fiction</td>\n",
       "      <td>1977</td>\n",
       "      <td>3.957559e+07</td>\n",
       "      <td>2.789712e+09</td>\n",
       "    </tr>\n",
       "    <tr>\n",
       "      <th>5231</th>\n",
       "      <td>Titanic</td>\n",
       "      <td>4.355219</td>\n",
       "      <td>Kate Winslet|Leonardo DiCaprio|Frances Fisher|Billy Zane|Kathy Bates</td>\n",
       "      <td>194</td>\n",
       "      <td>Drama|Romance|Thriller</td>\n",
       "      <td>1997</td>\n",
       "      <td>2.716921e+08</td>\n",
       "      <td>2.506406e+09</td>\n",
       "    </tr>\n",
       "    <tr>\n",
       "      <th>10594</th>\n",
       "      <td>The Exorcist</td>\n",
       "      <td>2.010733</td>\n",
       "      <td>Linda Blair|Max von Sydow|Ellen Burstyn|Jason Miller|Lee J. Cobb</td>\n",
       "      <td>122</td>\n",
       "      <td>Drama|Horror|Thriller</td>\n",
       "      <td>1973</td>\n",
       "      <td>3.928928e+07</td>\n",
       "      <td>2.167325e+09</td>\n",
       "    </tr>\n",
       "    <tr>\n",
       "      <th>9806</th>\n",
       "      <td>Jaws</td>\n",
       "      <td>2.563191</td>\n",
       "      <td>Roy Scheider|Robert Shaw|Richard Dreyfuss|Lorraine Gary|Murray Hamilton</td>\n",
       "      <td>124</td>\n",
       "      <td>Horror|Thriller|Adventure</td>\n",
       "      <td>1975</td>\n",
       "      <td>2.836275e+07</td>\n",
       "      <td>1.907006e+09</td>\n",
       "    </tr>\n",
       "  </tbody>\n",
       "</table>\n",
       "</div>"
      ],
      "text/plain": [
       "      original_title  popularity  \\\n",
       "1386          Avatar    9.432768   \n",
       "1329       Star Wars   12.037933   \n",
       "5231         Titanic    4.355219   \n",
       "10594   The Exorcist    2.010733   \n",
       "9806            Jaws    2.563191   \n",
       "\n",
       "                                                                               cast  \\\n",
       "1386   Sam Worthington|Zoe Saldana|Sigourney Weaver|Stephen Lang|Michelle Rodriguez   \n",
       "1329            Mark Hamill|Harrison Ford|Carrie Fisher|Peter Cushing|Alec Guinness   \n",
       "5231           Kate Winslet|Leonardo DiCaprio|Frances Fisher|Billy Zane|Kathy Bates   \n",
       "10594              Linda Blair|Max von Sydow|Ellen Burstyn|Jason Miller|Lee J. Cobb   \n",
       "9806        Roy Scheider|Robert Shaw|Richard Dreyfuss|Lorraine Gary|Murray Hamilton   \n",
       "\n",
       "       runtime                                    genres  release_year  \\\n",
       "1386       162  Action|Adventure|Fantasy|Science Fiction          2009   \n",
       "1329       121          Adventure|Action|Science Fiction          1977   \n",
       "5231       194                    Drama|Romance|Thriller          1997   \n",
       "10594      122                     Drama|Horror|Thriller          1973   \n",
       "9806       124                 Horror|Thriller|Adventure          1975   \n",
       "\n",
       "         budget_adj   revenue_adj  \n",
       "1386   2.408869e+08  2.827124e+09  \n",
       "1329   3.957559e+07  2.789712e+09  \n",
       "5231   2.716921e+08  2.506406e+09  \n",
       "10594  3.928928e+07  2.167325e+09  \n",
       "9806   2.836275e+07  1.907006e+09  "
      ]
     },
     "execution_count": 20,
     "metadata": {},
     "output_type": "execute_result"
    }
   ],
   "source": [
    "top_revenue = calculate_toppers(df3, 'revenue_adj')\n",
    "top_revenue.head()"
   ]
  },
  {
   "cell_type": "markdown",
   "metadata": {},
   "source": [
    "### Research Question 6 - What movies are most profitable?\n",
    "\n",
    "For this question, the strategy is to insert a column that holds the difference between revenue and budget."
   ]
  },
  {
   "cell_type": "code",
   "execution_count": 21,
   "metadata": {},
   "outputs": [
    {
     "name": "stderr",
     "output_type": "stream",
     "text": [
      "C:\\Users\\Dd\\AppData\\Local\\Temp\\ipykernel_25756\\3169502199.py:1: SettingWithCopyWarning: \n",
      "A value is trying to be set on a copy of a slice from a DataFrame.\n",
      "Try using .loc[row_indexer,col_indexer] = value instead\n",
      "\n",
      "See the caveats in the documentation: https://pandas.pydata.org/pandas-docs/stable/user_guide/indexing.html#returning-a-view-versus-a-copy\n",
      "  df3['profit'] = df3.revenue_adj - df3.budget_adj\n"
     ]
    }
   ],
   "source": [
    "df3['profit'] = df3.revenue_adj - df3.budget_adj"
   ]
  },
  {
   "cell_type": "code",
   "execution_count": 22,
   "metadata": {},
   "outputs": [
    {
     "data": {
      "text/html": [
       "<div>\n",
       "<style scoped>\n",
       "    .dataframe tbody tr th:only-of-type {\n",
       "        vertical-align: middle;\n",
       "    }\n",
       "\n",
       "    .dataframe tbody tr th {\n",
       "        vertical-align: top;\n",
       "    }\n",
       "\n",
       "    .dataframe thead th {\n",
       "        text-align: right;\n",
       "    }\n",
       "</style>\n",
       "<table border=\"1\" class=\"dataframe\">\n",
       "  <thead>\n",
       "    <tr style=\"text-align: right;\">\n",
       "      <th></th>\n",
       "      <th>original_title</th>\n",
       "      <th>popularity</th>\n",
       "      <th>cast</th>\n",
       "      <th>runtime</th>\n",
       "      <th>genres</th>\n",
       "      <th>release_year</th>\n",
       "      <th>budget_adj</th>\n",
       "      <th>revenue_adj</th>\n",
       "      <th>profit</th>\n",
       "    </tr>\n",
       "  </thead>\n",
       "  <tbody>\n",
       "    <tr>\n",
       "      <th>0</th>\n",
       "      <td>Jurassic World</td>\n",
       "      <td>32.985763</td>\n",
       "      <td>Chris Pratt|Bryce Dallas Howard|Irrfan Khan|Vincent D'Onofrio|Nick Robinson</td>\n",
       "      <td>124</td>\n",
       "      <td>Action|Adventure|Science Fiction|Thriller</td>\n",
       "      <td>2015</td>\n",
       "      <td>1.379999e+08</td>\n",
       "      <td>1.392446e+09</td>\n",
       "      <td>1.254446e+09</td>\n",
       "    </tr>\n",
       "    <tr>\n",
       "      <th>1</th>\n",
       "      <td>Mad Max: Fury Road</td>\n",
       "      <td>28.419936</td>\n",
       "      <td>Tom Hardy|Charlize Theron|Hugh Keays-Byrne|Nicholas Hoult|Josh Helman</td>\n",
       "      <td>120</td>\n",
       "      <td>Action|Adventure|Science Fiction|Thriller</td>\n",
       "      <td>2015</td>\n",
       "      <td>1.379999e+08</td>\n",
       "      <td>3.481613e+08</td>\n",
       "      <td>2.101614e+08</td>\n",
       "    </tr>\n",
       "    <tr>\n",
       "      <th>2</th>\n",
       "      <td>Insurgent</td>\n",
       "      <td>13.112507</td>\n",
       "      <td>Shailene Woodley|Theo James|Kate Winslet|Ansel Elgort|Miles Teller</td>\n",
       "      <td>119</td>\n",
       "      <td>Adventure|Science Fiction|Thriller</td>\n",
       "      <td>2015</td>\n",
       "      <td>1.012000e+08</td>\n",
       "      <td>2.716190e+08</td>\n",
       "      <td>1.704191e+08</td>\n",
       "    </tr>\n",
       "    <tr>\n",
       "      <th>3</th>\n",
       "      <td>Star Wars: The Force Awakens</td>\n",
       "      <td>11.173104</td>\n",
       "      <td>Harrison Ford|Mark Hamill|Carrie Fisher|Adam Driver|Daisy Ridley</td>\n",
       "      <td>136</td>\n",
       "      <td>Action|Adventure|Science Fiction|Fantasy</td>\n",
       "      <td>2015</td>\n",
       "      <td>1.839999e+08</td>\n",
       "      <td>1.902723e+09</td>\n",
       "      <td>1.718723e+09</td>\n",
       "    </tr>\n",
       "    <tr>\n",
       "      <th>4</th>\n",
       "      <td>Furious 7</td>\n",
       "      <td>9.335014</td>\n",
       "      <td>Vin Diesel|Paul Walker|Jason Statham|Michelle Rodriguez|Dwayne Johnson</td>\n",
       "      <td>137</td>\n",
       "      <td>Action|Crime|Thriller</td>\n",
       "      <td>2015</td>\n",
       "      <td>1.747999e+08</td>\n",
       "      <td>1.385749e+09</td>\n",
       "      <td>1.210949e+09</td>\n",
       "    </tr>\n",
       "  </tbody>\n",
       "</table>\n",
       "</div>"
      ],
      "text/plain": [
       "                 original_title  popularity  \\\n",
       "0                Jurassic World   32.985763   \n",
       "1            Mad Max: Fury Road   28.419936   \n",
       "2                     Insurgent   13.112507   \n",
       "3  Star Wars: The Force Awakens   11.173104   \n",
       "4                     Furious 7    9.335014   \n",
       "\n",
       "                                                                          cast  \\\n",
       "0  Chris Pratt|Bryce Dallas Howard|Irrfan Khan|Vincent D'Onofrio|Nick Robinson   \n",
       "1        Tom Hardy|Charlize Theron|Hugh Keays-Byrne|Nicholas Hoult|Josh Helman   \n",
       "2           Shailene Woodley|Theo James|Kate Winslet|Ansel Elgort|Miles Teller   \n",
       "3             Harrison Ford|Mark Hamill|Carrie Fisher|Adam Driver|Daisy Ridley   \n",
       "4       Vin Diesel|Paul Walker|Jason Statham|Michelle Rodriguez|Dwayne Johnson   \n",
       "\n",
       "   runtime                                     genres  release_year  \\\n",
       "0      124  Action|Adventure|Science Fiction|Thriller          2015   \n",
       "1      120  Action|Adventure|Science Fiction|Thriller          2015   \n",
       "2      119         Adventure|Science Fiction|Thriller          2015   \n",
       "3      136   Action|Adventure|Science Fiction|Fantasy          2015   \n",
       "4      137                      Action|Crime|Thriller          2015   \n",
       "\n",
       "     budget_adj   revenue_adj        profit  \n",
       "0  1.379999e+08  1.392446e+09  1.254446e+09  \n",
       "1  1.379999e+08  3.481613e+08  2.101614e+08  \n",
       "2  1.012000e+08  2.716190e+08  1.704191e+08  \n",
       "3  1.839999e+08  1.902723e+09  1.718723e+09  \n",
       "4  1.747999e+08  1.385749e+09  1.210949e+09  "
      ]
     },
     "execution_count": 22,
     "metadata": {},
     "output_type": "execute_result"
    }
   ],
   "source": [
    "df3.head()"
   ]
  },
  {
   "cell_type": "code",
   "execution_count": 23,
   "metadata": {
    "scrolled": false
   },
   "outputs": [
    {
     "data": {
      "text/html": [
       "<div>\n",
       "<style scoped>\n",
       "    .dataframe tbody tr th:only-of-type {\n",
       "        vertical-align: middle;\n",
       "    }\n",
       "\n",
       "    .dataframe tbody tr th {\n",
       "        vertical-align: top;\n",
       "    }\n",
       "\n",
       "    .dataframe thead th {\n",
       "        text-align: right;\n",
       "    }\n",
       "</style>\n",
       "<table border=\"1\" class=\"dataframe\">\n",
       "  <thead>\n",
       "    <tr style=\"text-align: right;\">\n",
       "      <th></th>\n",
       "      <th>original_title</th>\n",
       "      <th>popularity</th>\n",
       "      <th>cast</th>\n",
       "      <th>runtime</th>\n",
       "      <th>genres</th>\n",
       "      <th>release_year</th>\n",
       "      <th>budget_adj</th>\n",
       "      <th>revenue_adj</th>\n",
       "      <th>profit</th>\n",
       "    </tr>\n",
       "  </thead>\n",
       "  <tbody>\n",
       "    <tr>\n",
       "      <th>1329</th>\n",
       "      <td>Star Wars</td>\n",
       "      <td>12.037933</td>\n",
       "      <td>Mark Hamill|Harrison Ford|Carrie Fisher|Peter Cushing|Alec Guinness</td>\n",
       "      <td>121</td>\n",
       "      <td>Adventure|Action|Science Fiction</td>\n",
       "      <td>1977</td>\n",
       "      <td>3.957559e+07</td>\n",
       "      <td>2.789712e+09</td>\n",
       "      <td>2.750137e+09</td>\n",
       "    </tr>\n",
       "    <tr>\n",
       "      <th>1386</th>\n",
       "      <td>Avatar</td>\n",
       "      <td>9.432768</td>\n",
       "      <td>Sam Worthington|Zoe Saldana|Sigourney Weaver|Stephen Lang|Michelle Rodriguez</td>\n",
       "      <td>162</td>\n",
       "      <td>Action|Adventure|Fantasy|Science Fiction</td>\n",
       "      <td>2009</td>\n",
       "      <td>2.408869e+08</td>\n",
       "      <td>2.827124e+09</td>\n",
       "      <td>2.586237e+09</td>\n",
       "    </tr>\n",
       "    <tr>\n",
       "      <th>5231</th>\n",
       "      <td>Titanic</td>\n",
       "      <td>4.355219</td>\n",
       "      <td>Kate Winslet|Leonardo DiCaprio|Frances Fisher|Billy Zane|Kathy Bates</td>\n",
       "      <td>194</td>\n",
       "      <td>Drama|Romance|Thriller</td>\n",
       "      <td>1997</td>\n",
       "      <td>2.716921e+08</td>\n",
       "      <td>2.506406e+09</td>\n",
       "      <td>2.234714e+09</td>\n",
       "    </tr>\n",
       "    <tr>\n",
       "      <th>10594</th>\n",
       "      <td>The Exorcist</td>\n",
       "      <td>2.010733</td>\n",
       "      <td>Linda Blair|Max von Sydow|Ellen Burstyn|Jason Miller|Lee J. Cobb</td>\n",
       "      <td>122</td>\n",
       "      <td>Drama|Horror|Thriller</td>\n",
       "      <td>1973</td>\n",
       "      <td>3.928928e+07</td>\n",
       "      <td>2.167325e+09</td>\n",
       "      <td>2.128036e+09</td>\n",
       "    </tr>\n",
       "    <tr>\n",
       "      <th>9806</th>\n",
       "      <td>Jaws</td>\n",
       "      <td>2.563191</td>\n",
       "      <td>Roy Scheider|Robert Shaw|Richard Dreyfuss|Lorraine Gary|Murray Hamilton</td>\n",
       "      <td>124</td>\n",
       "      <td>Horror|Thriller|Adventure</td>\n",
       "      <td>1975</td>\n",
       "      <td>2.836275e+07</td>\n",
       "      <td>1.907006e+09</td>\n",
       "      <td>1.878643e+09</td>\n",
       "    </tr>\n",
       "  </tbody>\n",
       "</table>\n",
       "</div>"
      ],
      "text/plain": [
       "      original_title  popularity  \\\n",
       "1329       Star Wars   12.037933   \n",
       "1386          Avatar    9.432768   \n",
       "5231         Titanic    4.355219   \n",
       "10594   The Exorcist    2.010733   \n",
       "9806            Jaws    2.563191   \n",
       "\n",
       "                                                                               cast  \\\n",
       "1329            Mark Hamill|Harrison Ford|Carrie Fisher|Peter Cushing|Alec Guinness   \n",
       "1386   Sam Worthington|Zoe Saldana|Sigourney Weaver|Stephen Lang|Michelle Rodriguez   \n",
       "5231           Kate Winslet|Leonardo DiCaprio|Frances Fisher|Billy Zane|Kathy Bates   \n",
       "10594              Linda Blair|Max von Sydow|Ellen Burstyn|Jason Miller|Lee J. Cobb   \n",
       "9806        Roy Scheider|Robert Shaw|Richard Dreyfuss|Lorraine Gary|Murray Hamilton   \n",
       "\n",
       "       runtime                                    genres  release_year  \\\n",
       "1329       121          Adventure|Action|Science Fiction          1977   \n",
       "1386       162  Action|Adventure|Fantasy|Science Fiction          2009   \n",
       "5231       194                    Drama|Romance|Thriller          1997   \n",
       "10594      122                     Drama|Horror|Thriller          1973   \n",
       "9806       124                 Horror|Thriller|Adventure          1975   \n",
       "\n",
       "         budget_adj   revenue_adj        profit  \n",
       "1329   3.957559e+07  2.789712e+09  2.750137e+09  \n",
       "1386   2.408869e+08  2.827124e+09  2.586237e+09  \n",
       "5231   2.716921e+08  2.506406e+09  2.234714e+09  \n",
       "10594  3.928928e+07  2.167325e+09  2.128036e+09  \n",
       "9806   2.836275e+07  1.907006e+09  1.878643e+09  "
      ]
     },
     "execution_count": 23,
     "metadata": {},
     "output_type": "execute_result"
    }
   ],
   "source": [
    "top_profit = calculate_toppers(df3, 'profit')\n",
    "top_profit.head()"
   ]
  },
  {
   "cell_type": "markdown",
   "metadata": {},
   "source": [
    "### Research Question 7 - Describe the sweetspot for the runtime feature.\n",
    "\n",
    "Using a histogram, we're going to estimate the optimal duration for a movie based on popularity.\n",
    "\n",
    "We're just going to eyeball the values for now."
   ]
  },
  {
   "cell_type": "code",
   "execution_count": 24,
   "metadata": {},
   "outputs": [
    {
     "data": {
      "text/plain": [
       "<Figure size 1600x800 with 0 Axes>"
      ]
     },
     "execution_count": 24,
     "metadata": {},
     "output_type": "execute_result"
    },
    {
     "data": {
      "text/plain": [
       "Text(0.5, 0, 'Runtime of the Movies')"
      ]
     },
     "execution_count": 24,
     "metadata": {},
     "output_type": "execute_result"
    },
    {
     "data": {
      "text/plain": [
       "Text(0, 0.5, '# of Movies in the Dataset')"
      ]
     },
     "execution_count": 24,
     "metadata": {},
     "output_type": "execute_result"
    },
    {
     "data": {
      "text/plain": [
       "Text(0.5, 1.0, 'Runtime of all the movies')"
      ]
     },
     "execution_count": 24,
     "metadata": {},
     "output_type": "execute_result"
    },
    {
     "data": {
      "text/plain": [
       "(array([ 1.,  0.,  1.,  6.,  9., 20., 39., 83., 77., 79., 78., 90., 61.,\n",
       "        80., 66., 63., 53., 31., 28., 29., 26., 15., 12., 12.,  6., 10.,\n",
       "         7.,  4.,  2.,  5.,  1.,  2.,  0.,  2.,  2.]),\n",
       " array([ 63.        ,  66.94285714,  70.88571429,  74.82857143,\n",
       "         78.77142857,  82.71428571,  86.65714286,  90.6       ,\n",
       "         94.54285714,  98.48571429, 102.42857143, 106.37142857,\n",
       "        110.31428571, 114.25714286, 118.2       , 122.14285714,\n",
       "        126.08571429, 130.02857143, 133.97142857, 137.91428571,\n",
       "        141.85714286, 145.8       , 149.74285714, 153.68571429,\n",
       "        157.62857143, 161.57142857, 165.51428571, 169.45714286,\n",
       "        173.4       , 177.34285714, 181.28571429, 185.22857143,\n",
       "        189.17142857, 193.11428571, 197.05714286, 201.        ]),\n",
       " <BarContainer object of 35 artists>)"
      ]
     },
     "execution_count": 24,
     "metadata": {},
     "output_type": "execute_result"
    },
    {
     "data": {
      "image/png": "[encoded data removed]",
      "text/plain": [
       "<Figure size 1600x800 with 1 Axes>"
      ]
     },
     "metadata": {
      "needs_background": "light"
     },
     "output_type": "display_data"
    }
   ],
   "source": [
    "plt.figure(figsize=(16,8), dpi = 100)\n",
    "plt.xlabel('Runtime of the Movies', fontsize = 15)\n",
    "plt.ylabel('# of Movies in the Dataset', fontsize=15)\n",
    "plt.title('Runtime of all the movies', fontsize=15)\n",
    "plt.hist(top_popular['runtime'], rwidth = 0.9, bins =35)\n",
    "plt.show()"
   ]
  },
  {
   "cell_type": "markdown",
   "metadata": {},
   "source": [
    "Instead of eye-balling, let's used statistics to get a feel for runtime column's properties."
   ]
  },
  {
   "cell_type": "code",
   "execution_count": 25,
   "metadata": {},
   "outputs": [
    {
     "data": {
      "text/plain": [
       "count    1000.00000\n",
       "mean      114.86700\n",
       "std        20.83635\n",
       "min        63.00000\n",
       "25%       100.00000\n",
       "50%       112.00000\n",
       "75%       126.00000\n",
       "max       201.00000\n",
       "Name: runtime, dtype: float64"
      ]
     },
     "execution_count": 25,
     "metadata": {},
     "output_type": "execute_result"
    }
   ],
   "source": [
    "top_popular['runtime'].describe()"
   ]
  },
  {
   "cell_type": "markdown",
   "metadata": {},
   "source": [
    "Let's also use numpy to calculate the interquartile range."
   ]
  },
  {
   "cell_type": "code",
   "execution_count": 26,
   "metadata": {},
   "outputs": [
    {
     "name": "stdout",
     "output_type": "stream",
     "text": [
      "26.0\n"
     ]
    }
   ],
   "source": [
    "q3, q1 = np.percentile(top_popular['runtime'], [75 ,25])\n",
    "iqr = q3 - q1\n",
    "print(iqr)"
   ]
  },
  {
   "cell_type": "markdown",
   "metadata": {},
   "source": [
    "### Research Question 8 - Are any of the features correlated?"
   ]
  },
  {
   "cell_type": "code",
   "execution_count": 27,
   "metadata": {},
   "outputs": [],
   "source": [
    "corr = round(df3.corr(),2)"
   ]
  },
  {
   "cell_type": "code",
   "execution_count": 28,
   "metadata": {},
   "outputs": [
    {
     "data": {
      "text/plain": [
       "<AxesSubplot:>"
      ]
     },
     "execution_count": 28,
     "metadata": {},
     "output_type": "execute_result"
    },
    {
     "data": {
      "image/png": "[encoded data removed]",
      "text/plain": [
       "<Figure size 1152x576 with 2 Axes>"
      ]
     },
     "metadata": {},
     "output_type": "display_data"
    }
   ],
   "source": [
    "sns.set(rc = {'figure.figsize':(16,8)})\n",
    "sns.heatmap(corr, annot=True)"
   ]
  },
  {
   "cell_type": "markdown",
   "metadata": {},
   "source": [
    "The selected variables are not correlated at all.\n",
    "\n",
    "### Research Question 9 - How is the movie industry trending?\n",
    "\n",
    "Let's answer this question by doing a line graph. But first, we must calculate the total profit by year."
   ]
  },
  {
   "cell_type": "code",
   "execution_count": 29,
   "metadata": {},
   "outputs": [
    {
     "data": {
      "text/plain": [
       "<Figure size 1152x576 with 0 Axes>"
      ]
     },
     "execution_count": 29,
     "metadata": {},
     "output_type": "execute_result"
    },
    {
     "data": {
      "text/plain": [
       "Text(0.5, 0, 'Release Year of Movies in the data set')"
      ]
     },
     "execution_count": 29,
     "metadata": {},
     "output_type": "execute_result"
    },
    {
     "data": {
      "text/plain": [
       "Text(0, 0.5, 'Profits Earned by Movies')"
      ]
     },
     "execution_count": 29,
     "metadata": {},
     "output_type": "execute_result"
    },
    {
     "data": {
      "text/plain": [
       "Text(0.5, 1.0, 'Total Profits earned by all movies Vs Year of their release.')"
      ]
     },
     "execution_count": 29,
     "metadata": {},
     "output_type": "execute_result"
    },
    {
     "data": {
      "text/plain": [
       "[<matplotlib.lines.Line2D at 0x1f536890f10>]"
      ]
     },
     "execution_count": 29,
     "metadata": {},
     "output_type": "execute_result"
    },
    {
     "data": {
      "image/png": "[encoded data removed]",
      "text/plain": [
       "<Figure size 1152x576 with 1 Axes>"
      ]
     },
     "metadata": {},
     "output_type": "display_data"
    }
   ],
   "source": [
    "yearly_profit = df3.groupby('release_year')['profit'].sum()\n",
    "\n",
    "plt.figure(figsize=(16,8))\n",
    "plt.xlabel('Release Year of Movies in the data set')\n",
    "plt.ylabel('Profits Earned by Movies')\n",
    "plt.title('Total Profits earned by all movies Vs Year of their release.')\n",
    "plt.plot(yearly_profit, marker='o')\n",
    "plt.show()"
   ]
  },
  {
   "cell_type": "markdown",
   "metadata": {},
   "source": [
    "It's looking good for the movie industry!\n",
    "\n",
    "### Research Question 10 - How does budget size affect a movie's popularity.\n",
    "\n",
    "As shown by the scatterplot, budget size does not necessarily determine a movie's popularity."
   ]
  },
  {
   "cell_type": "code",
   "execution_count": 38,
   "metadata": {
    "scrolled": false
   },
   "outputs": [
    {
     "data": {
      "text/plain": [
       "<AxesSubplot:xlabel='budget_adj', ylabel='popularity'>"
      ]
     },
     "execution_count": 38,
     "metadata": {},
     "output_type": "execute_result"
    },
    {
     "data": {
      "image/png": "[encoded data removed]",
      "text/plain": [
       "<Figure size 1152x576 with 1 Axes>"
      ]
     },
     "metadata": {},
     "output_type": "display_data"
    }
   ],
   "source": [
    "sns.scatterplot(data=df3, x=\"budget_adj\", y=\"popularity\")"
   ]
  },
  {
   "cell_type": "markdown",
   "metadata": {},
   "source": [
    "<a id='conclusions'></a>\n",
    "## Conclusions\n",
    "\n",
    "Although, we did not find any strong correlation between the selected variables, this dataset was still fun to explore.\n",
    "\n",
    "### Findings\n",
    "1. Jurassic World is the most popular movie.\n",
    "1. For the top ten most popular movies, action, drama, adventure, thriller, and comedy are the most popular genres.\n",
    "1. Robert De Niro is the most popular actor.\n",
    "1. The Warrior's Way had the biggest budget.\n",
    "1. And Avatar bringing in the most money.\n",
    "1. But Jurassic World took the crown for profitability.\n",
    "1. The average runtime of a movie in the most popular subset is 109 minutes. And the sweet spot lies between 90 and 140 minutes.\n",
    "1. No strong correlation on this dataset.\n",
    "1. The movie industry is trending positively.\n",
    "1. Budget size does not necessarily determine a movie's popularity\n",
    "\n",
    "### Limitations\n",
    "Some of the analysis was done on a subset that consisted of the top 1,000 most popular movies which may not be enough to conclude anything of value. Dropping all rows with NaN values significantly change the shape of the dataframe. Perhaps next time, we should impute the missing values instead of dropping them.\n",
    "\n",
    "### Next Steps\n",
    "Modifying the parameters of the subset of data could greatly improved the result of this analysis. Instead of an arbitrary hardcoded number of 1000, perhaps we could substitute it instead with a percentage or quartile.\n",
    "\n",
    "Making a network graph of the cast would be interesting too."
   ]
  },
  {
   "cell_type": "code",
   "execution_count": null,
   "metadata": {},
   "outputs": [],
   "source": []
  }
 ],
 "metadata": {
  "kernelspec": {
   "display_name": "Python 3 (ipykernel)",
   "language": "python",
   "name": "python3"
  },
  "language_info": {
   "codemirror_mode": {
    "name": "ipython",
    "version": 3
   },
   "file_extension": ".py",
   "mimetype": "text/x-python",
   "name": "python",
   "nbconvert_exporter": "python",
   "pygments_lexer": "ipython3",
   "version": "3.9.9"
  }
 },
 "nbformat": 4,
 "nbformat_minor": 2
}
